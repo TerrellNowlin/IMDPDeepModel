{
 "cells": [
  {
   "cell_type": "code",
   "execution_count": 17,
   "metadata": {},
   "outputs": [
    {
     "name": "stdout",
     "output_type": "stream",
     "text": [
      "1.12.0\n"
     ]
    }
   ],
   "source": [
    "import tensorflow as tf\n",
    "from tensorflow import keras\n",
    "import matplotlib.pyplot as plt\n",
    "\n",
    "print(tf.__version__)\n"
   ]
  },
  {
   "cell_type": "code",
   "execution_count": 32,
   "metadata": {},
   "outputs": [],
   "source": [
    "imdb = keras.datasets.imdb\n",
    "\n",
    "(train_data, train_labels), (test_data, test_labels) = imdb.load_data(num_words=10000)"
   ]
  },
  {
   "cell_type": "code",
   "execution_count": 33,
   "metadata": {},
   "outputs": [
    {
     "name": "stdout",
     "output_type": "stream",
     "text": [
      "Training: 25000 labels: 25000\n"
     ]
    }
   ],
   "source": [
    "print('Training: {} labels: {}'.format(len(train_images),len(train_labels)))"
   ]
  },
  {
   "cell_type": "code",
   "execution_count": 34,
   "metadata": {},
   "outputs": [],
   "source": [
    "# A dictionary mapping words to an integer index\n",
    "word_index = imdb.get_word_index()\n",
    "\n",
    "# The first indices are reserved\n",
    "word_index = {k:(v+3) for k,v in word_index.items()} \n",
    "word_index[\"<PAD>\"] = 0\n",
    "word_index[\"<START>\"] = 1\n",
    "word_index[\"<UNK>\"] = 2  # unknown\n",
    "word_index[\"<UNUSED>\"] = 3\n",
    "\n",
    "reverse_word_index = dict([(value, key) for (key, value) in word_index.items()])\n",
    "\n",
    "def decode_review(text):\n",
    "    return ' '.join([reverse_word_index.get(i, '?') for i in text])"
   ]
  },
  {
   "cell_type": "code",
   "execution_count": 35,
   "metadata": {},
   "outputs": [],
   "source": [
    "train_data = keras.preprocessing.sequence.pad_sequences(train_data,\n",
    "                                                        value=word_index[\"<PAD>\"],\n",
    "                                                        padding='post',\n",
    "                                                        maxlen=256)\n",
    "\n",
    "test_data = keras.preprocessing.sequence.pad_sequences(test_data,\n",
    "                                                       value=word_index[\"<PAD>\"],\n",
    "                                                       padding='post',\n",
    "                                                       maxlen=256)"
   ]
  },
  {
   "cell_type": "code",
   "execution_count": 36,
   "metadata": {},
   "outputs": [
    {
     "name": "stdout",
     "output_type": "stream",
     "text": [
      "_________________________________________________________________\n",
      "Layer (type)                 Output Shape              Param #   \n",
      "=================================================================\n",
      "embedding_2 (Embedding)      (None, None, 16)          160000    \n",
      "_________________________________________________________________\n",
      "global_average_pooling1d_2 ( (None, 16)                0         \n",
      "_________________________________________________________________\n",
      "dense_4 (Dense)              (None, 16)                272       \n",
      "_________________________________________________________________\n",
      "dense_5 (Dense)              (None, 1)                 17        \n",
      "=================================================================\n",
      "Total params: 160,289\n",
      "Trainable params: 160,289\n",
      "Non-trainable params: 0\n",
      "_________________________________________________________________\n"
     ]
    }
   ],
   "source": [
    "# input shape is the vocabulary count used for the movie reviews (10,000 words)\n",
    "vocab_size = 10000\n",
    "\n",
    "model = keras.Sequential()\n",
    "model.add(keras.layers.Embedding(vocab_size, 16))\n",
    "model.add(keras.layers.GlobalAveragePooling1D())\n",
    "model.add(keras.layers.Dense(16, activation=tf.nn.relu))\n",
    "model.add(keras.layers.Dense(1, activation=tf.nn.sigmoid))\n",
    "\n",
    "model.summary()"
   ]
  },
  {
   "cell_type": "code",
   "execution_count": 37,
   "metadata": {},
   "outputs": [],
   "source": [
    "model.compile(optimizer='adam',\n",
    "              loss='binary_crossentropy',\n",
    "              metrics=['accuracy'])"
   ]
  },
  {
   "cell_type": "code",
   "execution_count": 38,
   "metadata": {},
   "outputs": [],
   "source": [
    "x_val = train_data[:10000]\n",
    "partial_x_train = train_data[10000:]\n",
    "\n",
    "y_val = train_labels[:10000]\n",
    "partial_y_train = train_labels[10000:]"
   ]
  },
  {
   "cell_type": "code",
   "execution_count": 39,
   "metadata": {},
   "outputs": [
    {
     "name": "stdout",
     "output_type": "stream",
     "text": [
      "Train on 15000 samples, validate on 10000 samples\n",
      "Epoch 1/40\n",
      "15000/15000 [==============================] - 2s 106us/step - loss: 0.6924 - acc: 0.5625 - val_loss: 0.6911 - val_acc: 0.6296\n",
      "Epoch 2/40\n",
      "15000/15000 [==============================] - 1s 44us/step - loss: 0.6884 - acc: 0.7152 - val_loss: 0.6855 - val_acc: 0.7228\n",
      "Epoch 3/40\n",
      "15000/15000 [==============================] - 1s 44us/step - loss: 0.6798 - acc: 0.7519 - val_loss: 0.6745 - val_acc: 0.7478\n",
      "Epoch 4/40\n",
      "15000/15000 [==============================] - 1s 48us/step - loss: 0.6640 - acc: 0.7509 - val_loss: 0.6564 - val_acc: 0.7598\n",
      "Epoch 5/40\n",
      "15000/15000 [==============================] - 1s 46us/step - loss: 0.6398 - acc: 0.7796 - val_loss: 0.6299 - val_acc: 0.7710\n",
      "Epoch 6/40\n",
      "15000/15000 [==============================] - 1s 45us/step - loss: 0.6078 - acc: 0.7954 - val_loss: 0.5977 - val_acc: 0.7838\n",
      "Epoch 7/40\n",
      "15000/15000 [==============================] - 1s 49us/step - loss: 0.5698 - acc: 0.8109 - val_loss: 0.5617 - val_acc: 0.8033\n",
      "Epoch 8/40\n",
      "15000/15000 [==============================] - 1s 53us/step - loss: 0.5282 - acc: 0.8273 - val_loss: 0.5227 - val_acc: 0.8155\n",
      "Epoch 9/40\n",
      "15000/15000 [==============================] - 1s 56us/step - loss: 0.4860 - acc: 0.8412 - val_loss: 0.4853 - val_acc: 0.8280\n",
      "Epoch 10/40\n",
      "15000/15000 [==============================] - 1s 48us/step - loss: 0.4459 - acc: 0.8573 - val_loss: 0.4515 - val_acc: 0.8383\n",
      "Epoch 11/40\n",
      "15000/15000 [==============================] - 1s 45us/step - loss: 0.4106 - acc: 0.8668 - val_loss: 0.4242 - val_acc: 0.8455\n",
      "Epoch 12/40\n",
      "15000/15000 [==============================] - 1s 51us/step - loss: 0.3797 - acc: 0.8761 - val_loss: 0.3982 - val_acc: 0.8550\n",
      "Epoch 13/40\n",
      "15000/15000 [==============================] - 1s 52us/step - loss: 0.3524 - acc: 0.8849 - val_loss: 0.3786 - val_acc: 0.8590\n",
      "Epoch 14/40\n",
      "15000/15000 [==============================] - 1s 54us/step - loss: 0.3296 - acc: 0.8909 - val_loss: 0.3615 - val_acc: 0.8649\n",
      "Epoch 15/40\n",
      "15000/15000 [==============================] - 1s 67us/step - loss: 0.3098 - acc: 0.8957 - val_loss: 0.3478 - val_acc: 0.8683\n",
      "Epoch 16/40\n",
      "15000/15000 [==============================] - 1s 48us/step - loss: 0.2929 - acc: 0.8987 - val_loss: 0.3368 - val_acc: 0.8708\n",
      "Epoch 17/40\n",
      "15000/15000 [==============================] - 1s 45us/step - loss: 0.2771 - acc: 0.9061 - val_loss: 0.3271 - val_acc: 0.8730\n",
      "Epoch 18/40\n",
      "15000/15000 [==============================] - 1s 45us/step - loss: 0.2634 - acc: 0.9097 - val_loss: 0.3191 - val_acc: 0.8750\n",
      "Epoch 19/40\n",
      "15000/15000 [==============================] - 1s 50us/step - loss: 0.2508 - acc: 0.9135 - val_loss: 0.3125 - val_acc: 0.8777\n",
      "Epoch 20/40\n",
      "15000/15000 [==============================] - 1s 53us/step - loss: 0.2398 - acc: 0.9179 - val_loss: 0.3072 - val_acc: 0.8783\n",
      "Epoch 21/40\n",
      "15000/15000 [==============================] - 1s 50us/step - loss: 0.2291 - acc: 0.9214 - val_loss: 0.3021 - val_acc: 0.8802\n",
      "Epoch 22/40\n",
      "15000/15000 [==============================] - 1s 45us/step - loss: 0.2194 - acc: 0.9251 - val_loss: 0.2986 - val_acc: 0.8806\n",
      "Epoch 23/40\n",
      "15000/15000 [==============================] - 1s 49us/step - loss: 0.2105 - acc: 0.9266 - val_loss: 0.2954 - val_acc: 0.8806\n",
      "Epoch 24/40\n",
      "15000/15000 [==============================] - 1s 53us/step - loss: 0.2017 - acc: 0.9311 - val_loss: 0.2920 - val_acc: 0.8825\n",
      "Epoch 25/40\n",
      "15000/15000 [==============================] - 1s 48us/step - loss: 0.1938 - acc: 0.9345 - val_loss: 0.2898 - val_acc: 0.8828\n",
      "Epoch 26/40\n",
      "15000/15000 [==============================] - 1s 48us/step - loss: 0.1862 - acc: 0.9375 - val_loss: 0.2882 - val_acc: 0.8848\n",
      "Epoch 27/40\n",
      "15000/15000 [==============================] - 1s 57us/step - loss: 0.1796 - acc: 0.9412 - val_loss: 0.2871 - val_acc: 0.8843\n",
      "Epoch 28/40\n",
      "15000/15000 [==============================] - 1s 61us/step - loss: 0.1728 - acc: 0.9441 - val_loss: 0.2856 - val_acc: 0.8855\n",
      "Epoch 29/40\n",
      "15000/15000 [==============================] - 1s 46us/step - loss: 0.1664 - acc: 0.9463 - val_loss: 0.2851 - val_acc: 0.8848\n",
      "Epoch 30/40\n",
      "15000/15000 [==============================] - 1s 45us/step - loss: 0.1609 - acc: 0.9475 - val_loss: 0.2851 - val_acc: 0.8843\n",
      "Epoch 31/40\n",
      "15000/15000 [==============================] - 1s 46us/step - loss: 0.1546 - acc: 0.9511 - val_loss: 0.2851 - val_acc: 0.8850\n",
      "Epoch 32/40\n",
      "15000/15000 [==============================] - 1s 56us/step - loss: 0.1494 - acc: 0.9537 - val_loss: 0.2855 - val_acc: 0.8853\n",
      "Epoch 33/40\n",
      "15000/15000 [==============================] - 1s 48us/step - loss: 0.1439 - acc: 0.9561 - val_loss: 0.2863 - val_acc: 0.8847\n",
      "Epoch 34/40\n",
      "15000/15000 [==============================] - 1s 48us/step - loss: 0.1389 - acc: 0.9586 - val_loss: 0.2871 - val_acc: 0.8853\n",
      "Epoch 35/40\n",
      "15000/15000 [==============================] - 1s 49us/step - loss: 0.1345 - acc: 0.9596 - val_loss: 0.2881 - val_acc: 0.8855\n",
      "Epoch 36/40\n",
      "15000/15000 [==============================] - 1s 56us/step - loss: 0.1294 - acc: 0.9627 - val_loss: 0.2897 - val_acc: 0.8852\n",
      "Epoch 37/40\n",
      "15000/15000 [==============================] - 1s 59us/step - loss: 0.1253 - acc: 0.9641 - val_loss: 0.2918 - val_acc: 0.8853\n",
      "Epoch 38/40\n",
      "15000/15000 [==============================] - 1s 50us/step - loss: 0.1215 - acc: 0.9651 - val_loss: 0.2923 - val_acc: 0.8846\n",
      "Epoch 39/40\n",
      "15000/15000 [==============================] - 1s 48us/step - loss: 0.1168 - acc: 0.9673 - val_loss: 0.2944 - val_acc: 0.8842\n",
      "Epoch 40/40\n",
      "15000/15000 [==============================] - 1s 54us/step - loss: 0.1129 - acc: 0.9686 - val_loss: 0.2962 - val_acc: 0.8847\n"
     ]
    }
   ],
   "source": [
    "history = model.fit(partial_x_train,\n",
    "                    partial_y_train,\n",
    "                    epochs=40,\n",
    "                    batch_size=512,\n",
    "                    validation_data=(x_val, y_val),\n",
    "                    verbose=1)"
   ]
  },
  {
   "cell_type": "code",
   "execution_count": 43,
   "metadata": {},
   "outputs": [
    {
     "name": "stdout",
     "output_type": "stream",
     "text": [
      "25000/25000 [==============================] - 1s 32us/step\n",
      "[0.3146596819782257, 0.87408]\n"
     ]
    }
   ],
   "source": [
    "results = model.evaluate(test_data, test_labels)\n",
    "\n",
    "print(results)"
   ]
  },
  {
   "cell_type": "code",
   "execution_count": null,
   "metadata": {},
   "outputs": [],
   "source": []
  }
 ],
 "metadata": {
  "kernelspec": {
   "display_name": "Python 3",
   "language": "python",
   "name": "python3"
  },
  "language_info": {
   "codemirror_mode": {
    "name": "ipython",
    "version": 3
   },
   "file_extension": ".py",
   "mimetype": "text/x-python",
   "name": "python",
   "nbconvert_exporter": "python",
   "pygments_lexer": "ipython3",
   "version": "3.7.0"
  }
 },
 "nbformat": 4,
 "nbformat_minor": 2
}
